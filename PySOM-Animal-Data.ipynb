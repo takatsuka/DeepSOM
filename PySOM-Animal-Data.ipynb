{
 "cells": [
  {
   "cell_type": "markdown",
   "id": "2a4a4e47",
   "metadata": {},
   "source": [
    "# Clustering Animal Data using PYSOM Library"
   ]
  },
  {
   "cell_type": "markdown",
   "id": "e069bdb8",
   "metadata": {},
   "source": [
    "## Import Modules"
   ]
  },
  {
   "cell_type": "code",
   "execution_count": 1,
   "id": "54309c49",
   "metadata": {},
   "outputs": [
    {
     "name": "stdout",
     "output_type": "stream",
     "text": [
      "Requirement already satisfied: pandas in /usr/local/lib/python3.9/site-packages (1.3.4)\n",
      "Requirement already satisfied: sklearn in /usr/local/lib/python3.9/site-packages (0.0)\n",
      "Requirement already satisfied: pytz>=2017.3 in /usr/local/lib/python3.9/site-packages (from pandas) (2021.3)\n",
      "Requirement already satisfied: python-dateutil>=2.7.3 in /usr/local/lib/python3.9/site-packages (from pandas) (2.8.2)\n",
      "Requirement already satisfied: numpy>=1.17.3 in /usr/local/lib/python3.9/site-packages (from pandas) (1.20.2)\n",
      "Requirement already satisfied: six>=1.5 in /usr/local/lib/python3.9/site-packages (from python-dateutil>=2.7.3->pandas) (1.16.0)\n",
      "Requirement already satisfied: scikit-learn in /usr/local/lib/python3.9/site-packages (from sklearn) (1.0.1)\n",
      "Requirement already satisfied: threadpoolctl>=2.0.0 in /usr/local/lib/python3.9/site-packages (from scikit-learn->sklearn) (3.0.0)\n",
      "Requirement already satisfied: scipy>=1.1.0 in /usr/local/lib/python3.9/site-packages (from scikit-learn->sklearn) (1.7.0)\n",
      "Requirement already satisfied: joblib>=0.11 in /usr/local/lib/python3.9/site-packages (from scikit-learn->sklearn) (1.1.0)\n",
      "\u001b[33mWARNING: You are using pip version 21.1.3; however, version 21.3.1 is available.\n",
      "You should consider upgrading via the '/usr/local/opt/python@3.9/bin/python3.9 -m pip install --upgrade pip' command.\u001b[0m\n"
     ]
    }
   ],
   "source": [
    "!pip install pandas sklearn\n",
    "import numpy as np\n",
    "import pandas as pd\n",
    "import matplotlib.pyplot as plt\n",
    "from sklearn.preprocessing import scale\n",
    "\n",
    "# PYSOM LIBRARY MODULES:\n",
    "import pysom\n",
    "from pysom.node import Node\n",
    "from pysom.graph import Graph\n",
    "from pysom.nodes.bmu import BMU\n",
    "from pysom.nodes.dist import Dist\n",
    "from pysom.nodes.concat import Concat\n",
    "from pysom.nodes.calibrate import Calibrate\n",
    "from pysom.nodes.som import SOM, nhood_mexican, nhood_bubble, dist_manhattan, dist_cosine"
   ]
  },
  {
   "cell_type": "markdown",
   "id": "b50df03d",
   "metadata": {},
   "source": [
    "## Load Animal Data"
   ]
  },
  {
   "cell_type": "code",
   "execution_count": 2,
   "id": "7de4a0a7",
   "metadata": {},
   "outputs": [],
   "source": [
    "animal = ['Dove', 'Chicken', 'Duck', 'Goose', 'Owl', 'Hawk', 'Eagle', 'Fox', 'Dog', 'Wolf', 'Cat', 'Tiger', 'Lion', 'Horse', 'Zebra', 'Cow']\n",
    "features = [\n",
    "    [1, 0, 0, 1, 0, 0, 0, 0, 1, 0, 0, 1, 0],    # Dove\n",
    "    [1, 0, 0, 1, 0, 0, 0, 0, 1, 0, 0, 0, 0],    # Chicken\n",
    "    [1, 0, 0, 1, 0, 0, 0, 0, 1, 0, 0, 0, 1],    # Duck\n",
    "    [1, 0, 0, 1, 0, 0, 0, 0, 1, 0, 0, 1, 1],    # Goose\n",
    "    [1, 0, 0, 1, 0, 0, 0, 0, 1, 1, 0, 1, 0],    # Owl\n",
    "    [1, 0, 0, 1, 0, 0, 0, 0, 1, 1, 0, 1, 0],    # Hawk\n",
    "    [0, 1, 0, 1, 0, 0, 0, 0, 1, 1, 0, 1, 0],    # Eagle\n",
    "    [0, 1, 0, 0, 1, 1, 0, 0, 0, 1, 0, 0, 0],    # Fox\n",
    "    [0, 1, 0, 0, 1, 1, 0, 0, 0, 0, 1, 0, 0],    # Dog\n",
    "    [0, 1, 0, 0, 1, 1, 0, 1, 0, 1, 1, 0, 0],    # Wolf\n",
    "    [1, 0, 0, 0, 1, 1, 0, 0, 0, 1, 0, 0, 0],    # Cat\n",
    "    [0, 0, 1, 0, 1, 1, 0, 0, 0, 1, 1, 0, 0],    # Tiger\n",
    "    [0, 0, 1, 0, 1, 1, 0, 1, 0, 1, 1, 0, 0],    # Lion\n",
    "    [0, 0, 1, 0, 1, 1, 1, 1, 0, 0, 1, 0, 0],    # Horse\n",
    "    [0, 0, 1, 0, 1, 1, 1, 1, 0, 0, 1, 0, 0],    # Zebra\n",
    "    [0, 0, 1, 0, 1, 1, 1, 0, 0, 0, 0, 0, 0]     # Cow\n",
    "]\n",
    "\n",
    "feats = pd.DataFrame(features)\n",
    "feats.columns = ['Small', 'Medium', 'Big', '2-legs', '4-legs', 'Hair', 'Hooves', 'Mane', 'Feathers', 'Hunt', 'Run', 'Fly', 'Swim']"
   ]
  },
  {
   "cell_type": "markdown",
   "id": "c17c6bd6",
   "metadata": {},
   "source": [
    "## Helper Plot Function"
   ]
  },
  {
   "cell_type": "code",
   "execution_count": 3,
   "id": "3fe88c09",
   "metadata": {},
   "outputs": [],
   "source": [
    "def plot_features(size, out):\n",
    "    for bmu, labels in out.items():\n",
    "        labels = list(labels)\n",
    "        print(labels)\n",
    "\n",
    "        for i in range(len(labels)):\n",
    "            plt.text(bmu[0] + 0.1, bmu[1] + (i + 1) / len(labels) - 0.35, labels[i], fontsize=10)\n",
    "\n",
    "    plt.xticks(np.arange(size + 1))\n",
    "    plt.yticks(np.arange(size + 1))\n",
    "    plt.grid()\n",
    "    plt.show()"
   ]
  },
  {
   "cell_type": "markdown",
   "id": "7c298027",
   "metadata": {},
   "source": [
    "# Train Simple SOM on Animal Data"
   ]
  },
  {
   "cell_type": "code",
   "execution_count": 7,
   "id": "6199faeb",
   "metadata": {},
   "outputs": [
    {
     "name": "stdout",
     "output_type": "stream",
     "text": [
      "['Dove', 'Chicken', 'Duck', 'Goose']\n",
      "['Owl', 'Hawk']\n",
      "['Eagle']\n",
      "['Fox', 'Dog', 'Wolf']\n",
      "['Cat']\n",
      "['Tiger']\n",
      "['Lion']\n",
      "['Horse', 'Zebra']\n",
      "['Cow']\n"
     ]
    },
    {
     "data": {
      "image/png": "[encoded data removed]",
      "text/plain": [
       "<Figure size 432x288 with 1 Axes>"
      ]
     },
     "metadata": {
      "needs_background": "light"
     },
     "output_type": "display_data"
    }
   ],
   "source": [
    "size = 5\n",
    "g = Graph()\n",
    "\n",
    "som = g.create(SOM, props={'size': size, 'dim': 13, \"nhood\": nhood_mexican, 'sigma': 13, 'lr': 0.8, 'n_iters': 10000})\n",
    "g.connect(g.start, som, 1)\n",
    "\n",
    "cal = g.create(Calibrate, props={\"labels\": animal})\n",
    "\n",
    "\n",
    "g.connect(som, cal, 0)\n",
    "g.connect(cal, g.end, 1)\n",
    "\n",
    "data = scale(feats.values)\n",
    "\n",
    "g.set_input(data)\n",
    "out = g.get_output()\n",
    "plot_features(size, out)"
   ]
  },
  {
   "cell_type": "markdown",
   "id": "c11bca35",
   "metadata": {},
   "source": [
    "# Train Deep SOM on Animal Data (1) Logical Groupings"
   ]
  },
  {
   "cell_type": "markdown",
   "id": "2bf02507",
   "metadata": {},
   "source": [
    "                  *->som(size)->bmu(size)->*\n",
    "                 /                          \\\\\n",
    "                /--->som(legs)->bmu(legs)----\\\\\n",
    "    animal -> dist                          concat -> som -> calibrate(labels)\n",
    "                \\\\-->som(char)->bmu(char)----/\n",
    "                 \\\\                         /\n",
    "                  *->som(move)->bmu(move)->*"
   ]
  },
  {
   "cell_type": "code",
   "execution_count": 9,
   "id": "263d028e",
   "metadata": {},
   "outputs": [
    {
     "name": "stdout",
     "output_type": "stream",
     "text": [
      "['Dove', 'Chicken', 'Duck', 'Goose']\n",
      "['Owl', 'Hawk']\n",
      "['Eagle']\n",
      "['Fox']\n",
      "['Dog']\n",
      "['Wolf', 'Tiger']\n",
      "['Cat']\n",
      "['Lion']\n",
      "['Horse', 'Zebra']\n",
      "['Cow']\n"
     ]
    },
    {
     "data": {
      "image/png": "[encoded data removed]",
      "text/plain": [
       "<Figure size 432x288 with 1 Axes>"
      ]
     },
     "metadata": {
      "needs_background": "light"
     },
     "output_type": "display_data"
    }
   ],
   "source": [
    "g = Graph()\n",
    "\n",
    "sel = [(1, [0, 1, 2]), (1, [3, 4]), (1, [5, 6, 7, 8]), (1, [9, 10, 11, 12])]\n",
    "\n",
    "dist = g.create(Dist, props={\"selections\": sel})\n",
    "g.connect(g.start, dist, 1)\n",
    "\n",
    "som_size = g.create(SOM, props={\"size\": 16, \"dim\": 3, \"sigma\": 15, \"lr\": 0.8, \"n_iters\": 10000})\n",
    "som_legs = g.create(SOM, props={\"size\": 16, \"dim\": 2, \"sigma\": 15, \"lr\": 0.8, \"n_iters\": 10000})\n",
    "som_char = g.create(SOM, props={\"size\": 16, \"dim\": 4, \"sigma\": 15, \"lr\": 0.8, \"n_iters\": 10000})\n",
    "som_move = g.create(SOM, props={\"size\": 16, \"dim\": 4, \"sigma\": 15, \"lr\": 0.8, \"n_iters\": 10000})\n",
    "\n",
    "g.connect(dist, som_size, 1)\n",
    "g.connect(dist, som_legs, 2)\n",
    "g.connect(dist, som_char, 3)\n",
    "g.connect(dist, som_move, 4)\n",
    "\n",
    "bmu_size = g.create(BMU, props={\"output\": \"w\"})\n",
    "bmu_legs = g.create(BMU, props={\"output\": \"w\"})\n",
    "bmu_char = g.create(BMU, props={\"output\": \"w\"})\n",
    "bmu_move = g.create(BMU, props={\"output\": \"w\"})\n",
    "\n",
    "g.connect(som_size, bmu_size, 0)\n",
    "g.connect(som_legs, bmu_legs, 0)\n",
    "g.connect(som_char, bmu_char, 0)\n",
    "g.connect(som_move, bmu_move, 0)\n",
    "\n",
    "concat = g.create(Concat, props={\"axis\": 1})\n",
    "\n",
    "g.connect(bmu_size, concat, 1)\n",
    "g.connect(bmu_legs, concat, 1)\n",
    "g.connect(bmu_char, concat, 1)\n",
    "g.connect(bmu_move, concat, 1)\n",
    "\n",
    "size = 6\n",
    "\n",
    "som = g.create(SOM, props={'size': size, 'dim': 13, \"nhood\": nhood_mexican, 'sigma': 13, 'lr': 0.8, 'n_iters': 10000})\n",
    "\n",
    "g.connect(concat, som, 1)\n",
    "\n",
    "cal = g.create(Calibrate, props={\"labels\": animal})\n",
    "\n",
    "g.connect(som, cal, 0)\n",
    "g.connect(cal, g.end, 1)\n",
    "\n",
    "data = scale(feats.values)\n",
    "g.set_input(data)\n",
    "\n",
    "out = g.get_output()\n",
    "\n",
    "plot_features(size, out)"
   ]
  },
  {
   "cell_type": "markdown",
   "id": "aeea0bc1",
   "metadata": {},
   "source": [
    "# Train Deep SOM on Animal Data (2) Multiply Hunt"
   ]
  },
  {
   "cell_type": "markdown",
   "id": "e00e7d16",
   "metadata": {},
   "source": [
    "                  *--->som(size)->bmu(size)--->*\n",
    "                 /                              \\\\\n",
    "                /----->som(legs)->bmu(legs)------\\\\\n",
    "    animal -> dist                          concat -> som -> calibrate(labels)\n",
    "                \\\\---->som(char)->bmu(char)------/\n",
    "                 \\\\                             /\n",
    "                  \\\\-->som(hunt)->bmu(hunt)----/\n",
    "                   \\\\                         /\n",
    "                    *->som(move)->bmu(move)->*\n",
    "                     (move doubles up on hunt)"
   ]
  },
  {
   "cell_type": "code",
   "execution_count": 10,
   "id": "75b75f66",
   "metadata": {},
   "outputs": [
    {
     "name": "stdout",
     "output_type": "stream",
     "text": [
      "['Dove', 'Chicken', 'Duck', 'Goose']\n",
      "['Owl', 'Hawk']\n",
      "['Eagle']\n",
      "['Fox', 'Cat']\n",
      "['Dog']\n",
      "['Wolf']\n",
      "['Tiger']\n",
      "['Lion']\n",
      "['Horse', 'Zebra']\n",
      "['Cow']\n"
     ]
    },
    {
     "data": {
      "image/png": "[encoded data removed]",
      "text/plain": [
       "<Figure size 432x288 with 1 Axes>"
      ]
     },
     "metadata": {
      "needs_background": "light"
     },
     "output_type": "display_data"
    }
   ],
   "source": [
    "g = Graph()\n",
    "\n",
    "sel = [(1, [0, 1, 2]), (1, [3, 4]), (1, [5, 6, 7, 8]), (1, [9]), (1, [9, 10, 11, 12])]\n",
    "\n",
    "dist = g.create(Dist, props={\"selections\": sel})\n",
    "g.connect(g.start, dist, 1)\n",
    "\n",
    "som_size = g.create(\n",
    "    SOM, props={\"size\": 16, \"dim\": 3, \"sigma\": 15, \"lr\": 0.8, \"n_iters\": 10000})\n",
    "som_legs = g.create(\n",
    "    SOM, props={\"size\": 16, \"dim\": 2, \"sigma\": 15, \"lr\": 0.8, \"n_iters\": 10000})\n",
    "som_char = g.create(\n",
    "    SOM, props={\"size\": 16, \"dim\": 4, \"sigma\": 15, \"lr\": 0.8, \"n_iters\": 10000})\n",
    "som_hunt = g.create(\n",
    "    SOM, props={\"size\": 16, \"dim\": 1, \"sigma\": 15, \"lr\": 0.8, \"n_iters\": 10000})\n",
    "som_move = g.create(\n",
    "    SOM, props={\"size\": 16, \"dim\": 4, \"sigma\": 15, \"lr\": 0.8, \"n_iters\": 10000})\n",
    "\n",
    "g.connect(dist, som_size, 1)\n",
    "g.connect(dist, som_legs, 2)\n",
    "g.connect(dist, som_char, 3)\n",
    "g.connect(dist, som_hunt, 4)\n",
    "g.connect(dist, som_move, 5)\n",
    "\n",
    "bmu_size = g.create(BMU, props={\"output\": \"w\"})\n",
    "bmu_legs = g.create(BMU, props={\"output\": \"w\"})\n",
    "bmu_char = g.create(BMU, props={\"output\": \"w\"})\n",
    "bmu_hunt = g.create(BMU, props={\"output\": \"w\"})\n",
    "bmu_move = g.create(BMU, props={\"output\": \"w\"})\n",
    "\n",
    "g.connect(som_size, bmu_size, 0)\n",
    "g.connect(som_legs, bmu_legs, 0)\n",
    "g.connect(som_char, bmu_char, 0)\n",
    "g.connect(som_hunt, bmu_hunt, 0)\n",
    "g.connect(som_move, bmu_move, 0)\n",
    "\n",
    "concat = g.create(Concat, props={\"axis\": 1})\n",
    "\n",
    "g.connect(bmu_size, concat, 1)\n",
    "g.connect(bmu_legs, concat, 1)\n",
    "g.connect(bmu_char, concat, 1)\n",
    "g.connect(bmu_hunt, concat, 1)\n",
    "g.connect(bmu_move, concat, 1)\n",
    "\n",
    "size = 6\n",
    "\n",
    "som = g.create(SOM, props={'size': size, 'dim': 14,\n",
    "               \"nhood\": nhood_mexican, 'sigma': 13, 'lr': 0.8, 'n_iters': 10000})\n",
    "\n",
    "g.connect(concat, som, 1)\n",
    "\n",
    "cal = g.create(Calibrate, props={\"labels\": animal})\n",
    "\n",
    "g.connect(som, cal, 0)\n",
    "g.connect(cal, g.end, 1)\n",
    "\n",
    "data = scale(feats.values)\n",
    "g.set_input(data)\n",
    "\n",
    "out = g.get_output()\n",
    "\n",
    "plot_features(size, out)"
   ]
  },
  {
   "cell_type": "markdown",
   "id": "c101afb0",
   "metadata": {},
   "source": [
    "# Train Deep SOM on Animal Data (3) Like with Like"
   ]
  },
  {
   "cell_type": "markdown",
   "id": "77b5665a",
   "metadata": {},
   "source": [
    "\n",
    "                  *---> (small, 2leg, feather,fly,swim)--->*\n",
    "                 /                                          \\\\\n",
    "                /                                            \\\\\n",
    "    animal -> dist --------> (med, 4leg, hair, run)-------> concat -> som -> calibrate(labels)\n",
    "                \\\\                                             /\n",
    "                 \\\\                                           /\n",
    "                  *---> (large, 4leg, hooves, mane, hunt)--->*\n",
    "    "
   ]
  },
  {
   "cell_type": "code",
   "execution_count": 11,
   "id": "d198f021",
   "metadata": {},
   "outputs": [
    {
     "name": "stdout",
     "output_type": "stream",
     "text": [
      "['Dove', 'Chicken', 'Duck', 'Goose']\n",
      "['Owl', 'Hawk']\n",
      "['Eagle']\n",
      "['Fox']\n",
      "['Dog']\n",
      "['Wolf', 'Tiger']\n",
      "['Cat']\n",
      "['Lion', 'Horse', 'Zebra', 'Cow']\n"
     ]
    },
    {
     "data": {
      "image/png": "[encoded data removed]",
      "text/plain": [
       "<Figure size 432x288 with 1 Axes>"
      ]
     },
     "metadata": {
      "needs_background": "light"
     },
     "output_type": "display_data"
    }
   ],
   "source": [
    "g = Graph()\n",
    "\n",
    "sel = [(1, [0, 3, 8, 11, 12]), (1, [1, 4, 5, 10]), (1, [2, 4, 6, 7, 9])]\n",
    "\n",
    "dist = g.create(Dist, props={\"selections\": sel})\n",
    "g.connect(g.start, dist, 1)\n",
    "\n",
    "som1 = g.create(\n",
    "    SOM, props={\"size\": 16, \"dim\": 5, \"sigma\": 15, \"lr\": 0.8, \"n_iters\": 10000})\n",
    "som2 = g.create(\n",
    "    SOM, props={\"size\": 16, \"dim\": 4, \"sigma\": 15, \"lr\": 0.8, \"n_iters\": 10000})\n",
    "som3 = g.create(\n",
    "    SOM, props={\"size\": 16, \"dim\": 5, \"sigma\": 15, \"lr\": 0.8, \"n_iters\": 10000})\n",
    "\n",
    "g.connect(dist, som1, 1)\n",
    "g.connect(dist, som2, 2)\n",
    "g.connect(dist, som3, 3)\n",
    "\n",
    "bmu1 = g.create(BMU, props={\"output\": \"w\"})\n",
    "bmu2 = g.create(BMU, props={\"output\": \"w\"})\n",
    "bmu3 = g.create(BMU, props={\"output\": \"w\"})\n",
    "\n",
    "g.connect(som1, bmu1, 0)\n",
    "g.connect(som2, bmu2, 0)\n",
    "g.connect(som3, bmu3, 0)\n",
    "\n",
    "concat = g.create(Concat, props={\"axis\": 1})\n",
    "\n",
    "g.connect(bmu1, concat, 1)\n",
    "g.connect(bmu2, concat, 1)\n",
    "g.connect(bmu3, concat, 1)\n",
    "\n",
    "size = 6\n",
    "\n",
    "som = g.create(SOM, props={'size': size, 'dim': 14,\n",
    "               \"nhood\": nhood_mexican, 'sigma': 13, 'lr': 0.8, 'n_iters': 10000})\n",
    "\n",
    "g.connect(concat, som, 1)\n",
    "\n",
    "cal = g.create(Calibrate, props={\"labels\": animal})\n",
    "\n",
    "g.connect(som, cal, 0)\n",
    "g.connect(cal, g.end, 1)\n",
    "\n",
    "data = scale(feats.values)\n",
    "g.set_input(data)\n",
    "\n",
    "out = g.get_output()\n",
    "\n",
    "plot_features(size, out)"
   ]
  },
  {
   "cell_type": "markdown",
   "id": "c217e6c1",
   "metadata": {},
   "source": [
    "# Train Deep SOM on Animal Data (4) Pushing the Limits 1"
   ]
  },
  {
   "cell_type": "markdown",
   "id": "cd1d3c38",
   "metadata": {},
   "source": [
    "                                                :---------------(2leg,4leg,run)\n",
    "                  *----> (small, 2leg)*-------------->*         .. pass along ..\n",
    "                 /       feather,fly   \\\\       :     :                     |\n",
    "                |           swim         *--> concat --> (fly, swim)------------------*\n",
    "                /                       /             :           2leg, 4leg, run     |\n",
    "    animal -> dist ----> (med, 4leg)------------->(concat)---> (small, med, large)--> *-> calibrate\n",
    "                \\\\        hair, run     \\\\            : (feather, hair, hooves, mane) |\n",
    "                ||                       *--> concat --> (hunt)-----------------------*\n",
    "                 \\\\                     /             :\n",
    "                  *---> (large, 4leg)->*------------->*\n",
    "                    hooves, mane, hunt\n",
    " "
   ]
  },
  {
   "cell_type": "code",
   "execution_count": 14,
   "id": "f3110d97",
   "metadata": {},
   "outputs": [
    {
     "name": "stdout",
     "output_type": "stream",
     "text": [
      "['Dove', 'Owl', 'Hawk', 'Eagle']\n",
      "['Chicken', 'Duck', 'Goose']\n",
      "['Fox']\n",
      "['Dog', 'Wolf']\n",
      "['Cat']\n",
      "['Tiger', 'Lion', 'Horse', 'Zebra']\n",
      "['Cow']\n"
     ]
    },
    {
     "data": {
      "image/png": "[encoded data removed]",
      "text/plain": [
       "<Figure size 432x288 with 1 Axes>"
      ]
     },
     "metadata": {
      "needs_background": "light"
     },
     "output_type": "display_data"
    },
    {
     "data": {
      "text/plain": [
       "defaultdict(list,\n",
       "            {(0, 5): Counter({'Dove': 1, 'Owl': 1, 'Hawk': 1, 'Eagle': 1}),\n",
       "             (0, 0): Counter({'Chicken': 1, 'Duck': 1, 'Goose': 1}),\n",
       "             (5, 0): Counter({'Fox': 1}),\n",
       "             (7, 0): Counter({'Dog': 1, 'Wolf': 1}),\n",
       "             (4, 3): Counter({'Cat': 1}),\n",
       "             (7, 6): Counter({'Tiger': 1, 'Lion': 1, 'Horse': 1, 'Zebra': 1}),\n",
       "             (4, 7): Counter({'Cow': 1})})"
      ]
     },
     "execution_count": 14,
     "metadata": {},
     "output_type": "execute_result"
    }
   ],
   "source": [
    "g = Graph()\n",
    "\n",
    "sel = [(1, [0, 3, 8, 11, 12]), (1, [1, 4, 5, 10]), (1, [2, 4, 6, 7, 9])]\n",
    "\n",
    "dist = g.create(Dist, props={\"selections\": sel})\n",
    "g.connect(g.start, dist, 1)\n",
    "\n",
    "som11 = g.create(SOM, props={\"size\": 16, \"dim\": 5, \"sigma\": 3, \"lr\": 0.8, \"hexagonal\": True, \"n_iters\": 10})\n",
    "som12 = g.create(SOM, props={\"size\": 16, \"dim\": 4, \"sigma\": 1, \"lr\": 0.8, \"dist\": dist_manhattan, \"n_iters\": 100})\n",
    "som13 = g.create(SOM, props={\"size\": 16, \"dim\": 5, \"sigma\": 2, \"dist\": dist_cosine, \"lr\": 0.8, \"n_iters\": 1000})\n",
    "\n",
    "g.connect(dist, som11, 1)\n",
    "g.connect(dist, som12, 2)\n",
    "g.connect(dist, som13, 3)\n",
    "\n",
    "bmu11 = g.create(BMU, props={\"output\": \"w\"})\n",
    "bmu12 = g.create(BMU, props={\"output\": \"w\"})\n",
    "bmu13 = g.create(BMU, props={\"output\": \"w\"})\n",
    "\n",
    "g.connect(som11, bmu11, 0)\n",
    "g.connect(som12, bmu12, 0)\n",
    "g.connect(som13, bmu13, 0)\n",
    "\n",
    "con11 = g.create(Concat, props={\"axis\": 1})\n",
    "con12 = g.create(Concat, props={\"axis\": 1})\n",
    "\n",
    "g.connect(bmu11, con11, 1)\n",
    "g.connect(bmu12, con11, 1)\n",
    "g.connect(bmu12, con12, 1)\n",
    "g.connect(bmu13, con12, 1)\n",
    "\n",
    "dist_flyswim_24run = g.create(Dist, props={\"selections\": [(1, [3, 4]), (1, [1, 6, 8])]})\n",
    "\n",
    "g.connect(con11, dist_flyswim_24run, 1)\n",
    "som_flyswim = g.create(SOM, props={\"size\": 10, \"dist\": dist_cosine, \"hexagonal\": True, \"dim\": 2, \"sigma\": 2, \"lr\": 0.7, \"n_iters\": 1000})\n",
    "\n",
    "g.connect(dist_flyswim_24run, som_flyswim, 1)\n",
    "bmu_flyswim = g.create(BMU, props={\"output\": \"w\"})\n",
    "g.connect(som_flyswim, bmu_flyswim, 0)\n",
    "\n",
    "node_24run = g.create(Node)\n",
    "g.connect(dist_flyswim_24run, node_24run, 2)    # skips layer\n",
    "\n",
    "dist_hunt = g.create(Dist, props={\"selections\": [(1, [4])]})\n",
    "g.connect(con12, dist_hunt, 1)\n",
    "som_hunt = g.create(SOM, props={\"size\": 14, \"dim\": 1, \"sigma\": 7, \"lr\": 1, \"hexagonal\": True, \"n_iters\": 1000})\n",
    "g.connect(dist_hunt, som_hunt, 1)\n",
    "bmu_hunt = g.create(BMU, props={\"output\": \"w\"})\n",
    "g.connect(som_hunt, bmu_hunt, 0)\n",
    "\n",
    "con2 = g.create(Concat, props={\"axis\": 1})\n",
    "\n",
    "g.connect(bmu11, con2, 1)\n",
    "g.connect(bmu12, con2, 1)\n",
    "g.connect(bmu13, con2, 1)\n",
    "\n",
    "dist_sml_feats = g.create(Dist, props={\"selections\": [(1, [0, 5, 9, 2, 7, 8, 9])]})\n",
    "g.connect(con2, dist_sml_feats, 1)\n",
    "som_sml_feats = g.create(SOM, props={\"size\": 16, \"dim\": 7, \"sigma\": 3, \"lr\": 1, \"hexagonal\": True, \"n_iters\": 10000})\n",
    "g.connect(dist_sml_feats, som_sml_feats, 1)\n",
    "bmu_sml_feats = g.create(BMU, props={\"output\": \"w\"})\n",
    "g.connect(som_sml_feats, bmu_sml_feats, 0)\n",
    "\n",
    "con3 = g.create(Concat, props={\"axis\": 1})\n",
    "\n",
    "g.connect(bmu_flyswim, con3, 1)\n",
    "g.connect(bmu_hunt, con3, 1)\n",
    "g.connect(bmu_sml_feats, con3, 1)\n",
    "g.connect(node_24run, con3, 1)\n",
    "\n",
    "size = 8\n",
    "som = g.create(SOM, props={'size': size, 'dim': 13, \"dist\": dist_manhattan, \"hexagonal\": True, 'sigma': 2, 'lr': 0.6, 'n_iters': 1000})\n",
    "g.connect(con3, som, 1)\n",
    "cal = g.create(Calibrate, props={\"labels\": animal})\n",
    "\n",
    "g.connect(som, cal, 0)\n",
    "g.connect(cal, g.end, 1)\n",
    "data = scale(feats.values)\n",
    "g.set_input(data)\n",
    "out = g.get_output()\n",
    "\n",
    "plot_features(size, out)"
   ]
  },
  {
   "cell_type": "code",
   "execution_count": null,
   "id": "8883c22c",
   "metadata": {},
   "outputs": [],
   "source": []
  }
 ],
 "metadata": {
  "interpreter": {
   "hash": "aee8b7b246df8f9039afb4144a1f6fd8d2ca17a180786b69acc140d282b71a49"
  },
  "kernelspec": {
   "display_name": "Python 3.9.6 64-bit",
   "name": "python3"
  },
  "language_info": {
   "codemirror_mode": {
    "name": "ipython",
    "version": 3
   },
   "file_extension": ".py",
   "mimetype": "text/x-python",
   "name": "python",
   "nbconvert_exporter": "python",
   "pygments_lexer": "ipython3",
   "version": "3.9.6"
  }
 },
 "nbformat": 4,
 "nbformat_minor": 5
}
